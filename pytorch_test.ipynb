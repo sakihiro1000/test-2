{
 "cells": [
  {
   "cell_type": "code",
   "execution_count": 22,
   "metadata": {},
   "outputs": [],
   "source": [
    "import numpy as np\n",
    "import pandas as pd\n",
    "\n",
    "import re\n",
    "import matplotlib.pyplot as plt"
   ]
  },
  {
   "cell_type": "code",
   "execution_count": 2,
   "metadata": {},
   "outputs": [],
   "source": [
    "import torch"
   ]
  },
  {
   "cell_type": "code",
   "execution_count": 3,
   "metadata": {},
   "outputs": [],
   "source": [
    "import torchvision"
   ]
  },
  {
   "cell_type": "code",
   "execution_count": 92,
   "metadata": {},
   "outputs": [],
   "source": [
    "from torch import nn\n",
    "import torch.optim as opt"
   ]
  },
  {
   "cell_type": "code",
   "execution_count": 5,
   "metadata": {},
   "outputs": [
    {
     "name": "stdout",
     "output_type": "stream",
     "text": [
      "Downloading http://fashion-mnist.s3-website.eu-central-1.amazonaws.com/train-images-idx3-ubyte.gz\n",
      "Downloading http://fashion-mnist.s3-website.eu-central-1.amazonaws.com/train-images-idx3-ubyte.gz to data/FashionMNIST/raw/train-images-idx3-ubyte.gz\n"
     ]
    },
    {
     "data": {
      "application/vnd.jupyter.widget-view+json": {
       "model_id": "f0ec343c87c343f29beea6035c9ab3d0",
       "version_major": 2,
       "version_minor": 0
      },
      "text/plain": [
       "HBox(children=(HTML(value=''), FloatProgress(value=0.0, max=26421880.0), HTML(value='')))"
      ]
     },
     "metadata": {},
     "output_type": "display_data"
    },
    {
     "name": "stdout",
     "output_type": "stream",
     "text": [
      "\n",
      "Extracting data/FashionMNIST/raw/train-images-idx3-ubyte.gz to data/FashionMNIST/raw\n",
      "\n",
      "Downloading http://fashion-mnist.s3-website.eu-central-1.amazonaws.com/train-labels-idx1-ubyte.gz\n",
      "Downloading http://fashion-mnist.s3-website.eu-central-1.amazonaws.com/train-labels-idx1-ubyte.gz to data/FashionMNIST/raw/train-labels-idx1-ubyte.gz\n"
     ]
    },
    {
     "data": {
      "application/vnd.jupyter.widget-view+json": {
       "model_id": "dbfe7ec24fa740f6a2cf711b62310c25",
       "version_major": 2,
       "version_minor": 0
      },
      "text/plain": [
       "HBox(children=(HTML(value=''), FloatProgress(value=0.0, max=29515.0), HTML(value='')))"
      ]
     },
     "metadata": {},
     "output_type": "display_data"
    },
    {
     "name": "stdout",
     "output_type": "stream",
     "text": [
      "\n",
      "Extracting data/FashionMNIST/raw/train-labels-idx1-ubyte.gz to data/FashionMNIST/raw\n",
      "\n",
      "Downloading http://fashion-mnist.s3-website.eu-central-1.amazonaws.com/t10k-images-idx3-ubyte.gz\n",
      "Downloading http://fashion-mnist.s3-website.eu-central-1.amazonaws.com/t10k-images-idx3-ubyte.gz to data/FashionMNIST/raw/t10k-images-idx3-ubyte.gz\n"
     ]
    },
    {
     "data": {
      "application/vnd.jupyter.widget-view+json": {
       "model_id": "2fca3b6e58b84c11a36e1c1ec972f7a6",
       "version_major": 2,
       "version_minor": 0
      },
      "text/plain": [
       "HBox(children=(HTML(value=''), FloatProgress(value=0.0, max=4422102.0), HTML(value='')))"
      ]
     },
     "metadata": {},
     "output_type": "display_data"
    },
    {
     "name": "stdout",
     "output_type": "stream",
     "text": [
      "\n",
      "Extracting data/FashionMNIST/raw/t10k-images-idx3-ubyte.gz to data/FashionMNIST/raw\n",
      "\n",
      "Downloading http://fashion-mnist.s3-website.eu-central-1.amazonaws.com/t10k-labels-idx1-ubyte.gz\n",
      "Downloading http://fashion-mnist.s3-website.eu-central-1.amazonaws.com/t10k-labels-idx1-ubyte.gz to data/FashionMNIST/raw/t10k-labels-idx1-ubyte.gz\n"
     ]
    },
    {
     "data": {
      "application/vnd.jupyter.widget-view+json": {
       "model_id": "af08fc504ee64bde9b809b6869057d08",
       "version_major": 2,
       "version_minor": 0
      },
      "text/plain": [
       "HBox(children=(HTML(value=''), FloatProgress(value=0.0, max=5148.0), HTML(value='')))"
      ]
     },
     "metadata": {},
     "output_type": "display_data"
    },
    {
     "name": "stdout",
     "output_type": "stream",
     "text": [
      "\n",
      "Extracting data/FashionMNIST/raw/t10k-labels-idx1-ubyte.gz to data/FashionMNIST/raw\n",
      "\n",
      "Processing...\n",
      "Done!\n"
     ]
    },
    {
     "name": "stderr",
     "output_type": "stream",
     "text": [
      "/Users/sakiura/.pyenv/versions/Anaconda3-2020.11/lib/python3.8/site-packages/torchvision/datasets/mnist.py:502: UserWarning: The given NumPy array is not writeable, and PyTorch does not support non-writeable tensors. This means you can write to the underlying (supposedly non-writeable) NumPy array using the tensor. You may want to copy the array to protect its data or make it writeable before converting it to a tensor. This type of warning will be suppressed for the rest of this program. (Triggered internally at  /Users/distiller/project/conda/conda-bld/pytorch_1616554845587/work/torch/csrc/utils/tensor_numpy.cpp:143.)\n",
      "  return torch.from_numpy(parsed.astype(m[2], copy=False)).view(*s)\n"
     ]
    }
   ],
   "source": [
    "train_data = torchvision.datasets.FashionMNIST(\n",
    "    root=\"data\",\n",
    "    train=True,\n",
    "    download=True,\n",
    "    transform=torchvision.transforms.ToTensor()\n",
    ")"
   ]
  },
  {
   "cell_type": "code",
   "execution_count": 6,
   "metadata": {},
   "outputs": [
    {
     "data": {
      "text/plain": [
       "Dataset FashionMNIST\n",
       "    Number of datapoints: 60000\n",
       "    Root location: data\n",
       "    Split: Train\n",
       "    StandardTransform\n",
       "Transform: ToTensor()"
      ]
     },
     "execution_count": 6,
     "metadata": {},
     "output_type": "execute_result"
    }
   ],
   "source": [
    "train_data"
   ]
  },
  {
   "cell_type": "code",
   "execution_count": 10,
   "metadata": {},
   "outputs": [],
   "source": [
    "test_data = torchvision.datasets.FashionMNIST(\n",
    "    root=\"data\",\n",
    "    train=False,\n",
    "    download=True,\n",
    "    transform=torchvision.transforms.ToTensor()\n",
    ")"
   ]
  },
  {
   "cell_type": "code",
   "execution_count": 11,
   "metadata": {},
   "outputs": [
    {
     "data": {
      "text/plain": [
       "Dataset FashionMNIST\n",
       "    Number of datapoints: 10000\n",
       "    Root location: data\n",
       "    Split: Test\n",
       "    StandardTransform\n",
       "Transform: ToTensor()"
      ]
     },
     "execution_count": 11,
     "metadata": {},
     "output_type": "execute_result"
    }
   ],
   "source": [
    "test_data"
   ]
  },
  {
   "cell_type": "code",
   "execution_count": 53,
   "metadata": {},
   "outputs": [],
   "source": [
    "img_data = train_data.data\n",
    "img_label = train_data.targets"
   ]
  },
  {
   "cell_type": "code",
   "execution_count": 54,
   "metadata": {},
   "outputs": [
    {
     "data": {
      "text/plain": [
       "torch.Size([60000])"
      ]
     },
     "execution_count": 54,
     "metadata": {},
     "output_type": "execute_result"
    }
   ],
   "source": []
  },
  {
   "cell_type": "code",
   "execution_count": 57,
   "metadata": {},
   "outputs": [
    {
     "name": "stdout",
     "output_type": "stream",
     "text": [
      "Using cpu device\n"
     ]
    }
   ],
   "source": [
    "device = 'cuda' if torch.cuda.is_available() else 'cpu'\n",
    "print('Using {} device'.format(device))"
   ]
  },
  {
   "cell_type": "code",
   "execution_count": 58,
   "metadata": {},
   "outputs": [],
   "source": [
    "class model(nn.Module):\n",
    "    def __init__(self):\n",
    "        super(model, self).__init__()\n",
    "        self.flatten = nn.Flatten()\n",
    "        self.linear_relu = nn.Sequential(\n",
    "            nn.Linear(28*28, 512),\n",
    "            nn.ReLU(),\n",
    "            nn.Linear(512,512),\n",
    "            nn.ReLU(),\n",
    "            nn.Linear(512,10),\n",
    "            nn.ReLU()\n",
    "        )\n",
    "    def forward(self,x):\n",
    "        x = self.flatten(x)\n",
    "        logstic = self.linear_relu(x)\n",
    "        return logstic"
   ]
  },
  {
   "cell_type": "code",
   "execution_count": 60,
   "metadata": {},
   "outputs": [],
   "source": [
    "model = model()"
   ]
  },
  {
   "cell_type": "code",
   "execution_count": 61,
   "metadata": {},
   "outputs": [
    {
     "data": {
      "text/plain": [
       "model(\n",
       "  (flatten): Flatten(start_dim=1, end_dim=-1)\n",
       "  (linear_relu): Sequential(\n",
       "    (0): Linear(in_features=784, out_features=512, bias=True)\n",
       "    (1): ReLU()\n",
       "    (2): Linear(in_features=512, out_features=512, bias=True)\n",
       "    (3): ReLU()\n",
       "    (4): Linear(in_features=512, out_features=10, bias=True)\n",
       "    (5): ReLU()\n",
       "  )\n",
       ")"
      ]
     },
     "execution_count": 61,
     "metadata": {},
     "output_type": "execute_result"
    }
   ],
   "source": [
    "model"
   ]
  },
  {
   "cell_type": "code",
   "execution_count": 81,
   "metadata": {},
   "outputs": [
    {
     "name": "stdout",
     "output_type": "stream",
     "text": [
      "torch.Size([1, 28, 28])\n"
     ]
    },
    {
     "data": {
      "text/plain": [
       "tensor([[0.1021, 0.1077, 0.1025, 0.0970, 0.0970, 0.1032, 0.0970, 0.0970, 0.0998,\n",
       "         0.0970]], grad_fn=<SoftmaxBackward>)"
      ]
     },
     "execution_count": 81,
     "metadata": {},
     "output_type": "execute_result"
    }
   ],
   "source": [
    "# model.forward(img_data)\n",
    "X = torch.rand(1, 28, 28, device=device)\n",
    "print(X.size())\n",
    "logits = model(X)\n",
    "pred_probab = nn.Softmax(dim=1)(logits)\n",
    "pred_probab"
   ]
  },
  {
   "cell_type": "code",
   "execution_count": 91,
   "metadata": {
    "collapsed": true,
    "jupyter": {
     "outputs_hidden": true
    }
   },
   "outputs": [
    {
     "name": "stdout",
     "output_type": "stream",
     "text": [
      "linear_relu.0.weight\n",
      "Parameter containing:\n",
      "tensor([[ 0.0234, -0.0285,  0.0266,  ...,  0.0280,  0.0154,  0.0190],\n",
      "        [-0.0191,  0.0237,  0.0191,  ..., -0.0290,  0.0171, -0.0234],\n",
      "        [ 0.0187, -0.0335, -0.0087,  ...,  0.0069, -0.0209,  0.0219],\n",
      "        ...,\n",
      "        [ 0.0224,  0.0082, -0.0003,  ..., -0.0111, -0.0169, -0.0213],\n",
      "        [-0.0313,  0.0035, -0.0278,  ...,  0.0196, -0.0118,  0.0310],\n",
      "        [-0.0112,  0.0231,  0.0165,  ...,  0.0129, -0.0098, -0.0164]],\n",
      "       requires_grad=True)\n",
      "linear_relu.0.bias\n",
      "Parameter containing:\n",
      "tensor([-0.0339, -0.0349, -0.0337,  0.0269, -0.0113, -0.0306,  0.0291,  0.0264,\n",
      "         0.0042,  0.0222, -0.0354,  0.0215, -0.0282,  0.0240,  0.0071, -0.0205,\n",
      "         0.0315, -0.0295, -0.0264,  0.0117, -0.0295,  0.0046,  0.0166, -0.0204,\n",
      "        -0.0130, -0.0025,  0.0291,  0.0135,  0.0102, -0.0012, -0.0231, -0.0280,\n",
      "        -0.0122, -0.0164, -0.0343,  0.0207, -0.0067,  0.0128,  0.0305,  0.0349,\n",
      "         0.0221,  0.0209,  0.0226, -0.0032, -0.0344,  0.0283, -0.0117,  0.0053,\n",
      "        -0.0090,  0.0142,  0.0189, -0.0083, -0.0216,  0.0245, -0.0002,  0.0047,\n",
      "         0.0350, -0.0206,  0.0266,  0.0216, -0.0352, -0.0248,  0.0167, -0.0049,\n",
      "         0.0207, -0.0282, -0.0082, -0.0166, -0.0031, -0.0020, -0.0098, -0.0098,\n",
      "         0.0327, -0.0243,  0.0289, -0.0050,  0.0315, -0.0270,  0.0257, -0.0091,\n",
      "        -0.0099, -0.0246, -0.0071, -0.0171, -0.0126, -0.0049, -0.0087, -0.0137,\n",
      "         0.0016,  0.0211, -0.0338, -0.0318, -0.0268,  0.0189, -0.0331,  0.0320,\n",
      "         0.0218,  0.0230,  0.0031,  0.0340,  0.0038,  0.0191, -0.0191, -0.0069,\n",
      "         0.0091, -0.0131,  0.0105, -0.0157,  0.0274, -0.0330, -0.0008, -0.0254,\n",
      "         0.0054,  0.0194,  0.0116, -0.0213, -0.0198,  0.0010, -0.0179, -0.0208,\n",
      "        -0.0229,  0.0213, -0.0304,  0.0095, -0.0091, -0.0090,  0.0052,  0.0072,\n",
      "        -0.0315,  0.0157, -0.0121, -0.0311,  0.0233,  0.0171, -0.0347,  0.0166,\n",
      "        -0.0096,  0.0347, -0.0247, -0.0024,  0.0072, -0.0332,  0.0103, -0.0178,\n",
      "         0.0002, -0.0258, -0.0336,  0.0137, -0.0220,  0.0197,  0.0215, -0.0278,\n",
      "         0.0285, -0.0121,  0.0158,  0.0025, -0.0034, -0.0223,  0.0066,  0.0009,\n",
      "         0.0352, -0.0319, -0.0298,  0.0043, -0.0126,  0.0016, -0.0340, -0.0034,\n",
      "        -0.0128,  0.0327,  0.0233, -0.0298,  0.0141,  0.0352,  0.0113, -0.0204,\n",
      "        -0.0336,  0.0069, -0.0127,  0.0278, -0.0190,  0.0085,  0.0009, -0.0178,\n",
      "        -0.0199, -0.0172, -0.0267, -0.0147, -0.0140, -0.0190, -0.0012, -0.0131,\n",
      "        -0.0335,  0.0002, -0.0011,  0.0205,  0.0016, -0.0275, -0.0053,  0.0075,\n",
      "        -0.0085, -0.0030, -0.0291, -0.0085, -0.0077,  0.0167,  0.0332, -0.0184,\n",
      "         0.0132, -0.0098,  0.0129, -0.0260, -0.0260, -0.0211,  0.0089,  0.0049,\n",
      "        -0.0018,  0.0229, -0.0211, -0.0242, -0.0150, -0.0084, -0.0079, -0.0318,\n",
      "        -0.0003,  0.0208, -0.0191, -0.0229, -0.0289, -0.0033, -0.0066,  0.0214,\n",
      "        -0.0083, -0.0090,  0.0214, -0.0215,  0.0282, -0.0269,  0.0041, -0.0326,\n",
      "         0.0043, -0.0189, -0.0165, -0.0261, -0.0027, -0.0279, -0.0089,  0.0142,\n",
      "        -0.0342,  0.0032, -0.0198, -0.0020,  0.0035, -0.0089,  0.0130,  0.0276,\n",
      "        -0.0274, -0.0235,  0.0337, -0.0144,  0.0014, -0.0149, -0.0034, -0.0173,\n",
      "         0.0331, -0.0109, -0.0271,  0.0303, -0.0023, -0.0040,  0.0247,  0.0180,\n",
      "        -0.0061, -0.0062, -0.0200, -0.0345,  0.0060, -0.0196, -0.0137, -0.0074,\n",
      "         0.0188, -0.0186,  0.0244, -0.0128,  0.0201, -0.0019, -0.0178,  0.0315,\n",
      "         0.0103, -0.0123,  0.0183,  0.0120,  0.0132, -0.0008, -0.0182,  0.0062,\n",
      "         0.0303, -0.0104, -0.0149,  0.0093, -0.0048, -0.0159, -0.0081,  0.0208,\n",
      "         0.0016,  0.0258,  0.0107, -0.0274, -0.0354,  0.0309, -0.0039, -0.0296,\n",
      "         0.0198, -0.0223,  0.0334, -0.0163, -0.0164,  0.0125, -0.0065, -0.0083,\n",
      "         0.0076, -0.0125, -0.0281,  0.0081,  0.0020,  0.0149, -0.0207, -0.0068,\n",
      "        -0.0086,  0.0247,  0.0189,  0.0250,  0.0120, -0.0271, -0.0264, -0.0183,\n",
      "         0.0349,  0.0056, -0.0241,  0.0324, -0.0300,  0.0269,  0.0210,  0.0222,\n",
      "         0.0015,  0.0163, -0.0154, -0.0063, -0.0139, -0.0220, -0.0002, -0.0210,\n",
      "         0.0271, -0.0202, -0.0117,  0.0278,  0.0041,  0.0076,  0.0307,  0.0111,\n",
      "        -0.0093,  0.0227,  0.0286, -0.0347, -0.0154,  0.0082, -0.0190,  0.0142,\n",
      "        -0.0188, -0.0047,  0.0090, -0.0048,  0.0181, -0.0028,  0.0230,  0.0346,\n",
      "        -0.0177,  0.0062,  0.0149,  0.0350,  0.0080,  0.0306, -0.0185, -0.0064,\n",
      "         0.0315,  0.0348,  0.0350,  0.0320, -0.0137, -0.0021,  0.0314, -0.0062,\n",
      "         0.0018,  0.0213,  0.0154,  0.0249,  0.0076,  0.0342,  0.0273, -0.0337,\n",
      "        -0.0355,  0.0168, -0.0250, -0.0283, -0.0013, -0.0177,  0.0217,  0.0188,\n",
      "         0.0335, -0.0037,  0.0270, -0.0157, -0.0333,  0.0096,  0.0153, -0.0230,\n",
      "         0.0097,  0.0233, -0.0101,  0.0281, -0.0071, -0.0274, -0.0185,  0.0233,\n",
      "         0.0350, -0.0080, -0.0280, -0.0035,  0.0332,  0.0254, -0.0215,  0.0010,\n",
      "         0.0061, -0.0044, -0.0101,  0.0127,  0.0123, -0.0183, -0.0225,  0.0020,\n",
      "        -0.0118,  0.0355,  0.0125,  0.0322, -0.0326, -0.0345,  0.0233,  0.0338,\n",
      "         0.0234, -0.0252, -0.0303,  0.0140,  0.0295,  0.0148,  0.0249,  0.0260,\n",
      "         0.0246, -0.0335, -0.0277, -0.0279,  0.0224, -0.0129,  0.0028,  0.0112,\n",
      "         0.0269, -0.0263,  0.0006, -0.0225,  0.0242, -0.0232,  0.0176,  0.0245,\n",
      "         0.0066,  0.0070,  0.0256,  0.0154, -0.0269, -0.0344,  0.0121,  0.0070,\n",
      "        -0.0135, -0.0242, -0.0222, -0.0221,  0.0315, -0.0007,  0.0109,  0.0030,\n",
      "         0.0331,  0.0065,  0.0116,  0.0270, -0.0290, -0.0098, -0.0072,  0.0304,\n",
      "         0.0278,  0.0241,  0.0285, -0.0036, -0.0171, -0.0355, -0.0302, -0.0018,\n",
      "         0.0088, -0.0037,  0.0237, -0.0106, -0.0188,  0.0279, -0.0118, -0.0295],\n",
      "       requires_grad=True)\n",
      "linear_relu.2.weight\n",
      "Parameter containing:\n",
      "tensor([[ 0.0230, -0.0424, -0.0323,  ...,  0.0435, -0.0194, -0.0137],\n",
      "        [ 0.0248, -0.0172,  0.0299,  ...,  0.0289, -0.0156, -0.0018],\n",
      "        [ 0.0106, -0.0066, -0.0346,  ...,  0.0070, -0.0259,  0.0395],\n",
      "        ...,\n",
      "        [-0.0355,  0.0183,  0.0422,  ..., -0.0084, -0.0167,  0.0248],\n",
      "        [ 0.0329, -0.0069, -0.0186,  ...,  0.0278,  0.0090, -0.0096],\n",
      "        [-0.0182, -0.0315, -0.0158,  ...,  0.0206,  0.0400,  0.0220]],\n",
      "       requires_grad=True)\n",
      "linear_relu.2.bias\n",
      "Parameter containing:\n",
      "tensor([ 4.0258e-02, -3.7743e-02, -9.6054e-03,  2.1534e-02, -5.5855e-03,\n",
      "        -3.6287e-02, -1.1537e-02,  1.9342e-02,  1.2492e-03,  1.7747e-03,\n",
      "        -1.7676e-02,  2.6971e-02,  1.8349e-02, -2.2111e-02,  1.6659e-02,\n",
      "         2.9516e-02,  1.5296e-02, -3.3838e-02, -5.2066e-03, -8.9026e-03,\n",
      "        -1.3888e-02,  2.4071e-02, -2.2303e-02,  4.2255e-02, -3.4341e-02,\n",
      "        -2.2397e-02, -2.1202e-02,  1.7959e-02,  7.4603e-03, -7.5495e-03,\n",
      "         1.3684e-02,  2.7156e-02,  2.7072e-02, -3.8305e-02,  1.6010e-02,\n",
      "        -2.9683e-02,  2.7536e-02,  1.9528e-02, -2.1346e-02, -4.0618e-02,\n",
      "        -1.1729e-02, -8.1383e-03,  8.9888e-03, -3.2913e-03, -9.9249e-03,\n",
      "        -7.5508e-03,  2.7465e-03, -2.2856e-03, -1.9334e-02, -3.1353e-02,\n",
      "         3.7609e-02,  7.5273e-03,  1.3187e-02, -3.0901e-02,  1.0703e-02,\n",
      "        -2.1183e-02,  4.1565e-02,  2.8458e-03, -4.4541e-03,  1.3656e-02,\n",
      "         1.8598e-02,  2.6007e-02, -9.1653e-03,  2.8335e-02, -3.4957e-03,\n",
      "        -1.5013e-02,  4.2047e-03,  8.6996e-03,  7.3185e-03, -2.5987e-02,\n",
      "        -2.1875e-02, -8.2483e-03, -4.3754e-02, -2.0223e-02,  5.0940e-03,\n",
      "        -1.0372e-02, -3.8304e-02, -1.4275e-02, -2.7310e-02, -1.7017e-02,\n",
      "         6.1577e-04,  5.4614e-03,  2.0961e-02,  2.8935e-03, -4.8731e-03,\n",
      "         7.5678e-03, -2.7019e-02, -2.9410e-02,  4.0081e-02, -3.1075e-02,\n",
      "        -1.4859e-02, -1.6251e-02, -2.9479e-02, -3.2965e-05,  1.3225e-02,\n",
      "         1.3081e-02, -3.1354e-02, -2.7865e-02,  1.7696e-02,  4.0893e-02,\n",
      "         4.1207e-02,  3.3394e-02,  3.9038e-02,  6.6432e-03,  6.2018e-03,\n",
      "        -1.6767e-02,  3.2220e-02, -1.1942e-02,  2.8369e-03,  4.4121e-02,\n",
      "         3.8613e-02, -1.2106e-02,  2.9224e-02,  9.3833e-03, -6.3376e-03,\n",
      "        -2.2186e-02,  2.9264e-02, -2.2570e-02, -4.3052e-02,  1.6683e-02,\n",
      "        -2.5543e-02, -9.6470e-03, -1.6048e-02, -4.1273e-02, -2.2676e-02,\n",
      "         1.3450e-02,  2.6214e-02,  2.9663e-02,  8.6327e-03,  1.5616e-02,\n",
      "        -4.0834e-02, -7.0856e-03, -4.2324e-02,  2.0764e-02, -2.1605e-02,\n",
      "        -1.7544e-02,  2.9857e-02, -2.3264e-02, -2.8909e-02, -1.4663e-02,\n",
      "         7.0221e-03,  1.5944e-02, -1.2948e-02,  5.3689e-03, -2.8412e-02,\n",
      "        -4.0407e-02,  1.3726e-02,  4.7740e-03, -3.1412e-02,  3.1783e-02,\n",
      "         1.2124e-02,  3.9454e-02,  5.7019e-03, -5.7508e-03, -2.5217e-02,\n",
      "        -2.1516e-02,  1.5317e-02, -2.6714e-02, -6.0955e-03,  4.2162e-02,\n",
      "         8.8496e-03,  3.7327e-02,  1.8915e-02, -1.2949e-02,  2.1914e-02,\n",
      "         3.3275e-02, -1.5488e-02,  3.8408e-02, -3.7994e-02,  4.1303e-02,\n",
      "         3.6862e-02,  1.1503e-02, -3.1987e-02,  3.1547e-02,  3.6981e-02,\n",
      "        -4.1114e-02, -4.2464e-02,  2.0661e-02, -2.9531e-02,  2.3206e-02,\n",
      "        -4.0400e-03, -4.0621e-02, -8.9956e-03, -1.1429e-02, -8.4533e-03,\n",
      "        -2.5319e-02, -3.7795e-02,  1.3095e-02, -3.2662e-02, -8.4342e-03,\n",
      "        -3.9048e-02, -1.3554e-02,  2.4559e-02, -7.1301e-03, -1.2153e-04,\n",
      "        -3.4634e-02, -1.0158e-02,  4.3041e-03, -1.3645e-02, -3.4587e-02,\n",
      "         4.3353e-02, -2.6789e-02, -1.5240e-02,  4.2304e-02,  1.0048e-02,\n",
      "        -7.6626e-03, -3.3303e-03, -4.4068e-02, -3.9425e-02,  3.8214e-02,\n",
      "        -8.1343e-03,  1.0804e-02,  1.0978e-03, -2.1292e-02, -1.4098e-02,\n",
      "        -2.1641e-02,  4.2399e-02,  3.4534e-02,  3.7636e-03,  3.7852e-02,\n",
      "        -2.9894e-02,  1.8931e-03, -2.3235e-02, -4.0695e-02, -4.9619e-03,\n",
      "         4.1186e-02, -9.4693e-05, -3.0640e-02, -2.6691e-02,  2.1035e-02,\n",
      "        -2.9176e-02,  3.3834e-02,  6.6393e-03, -4.1756e-02,  1.2166e-02,\n",
      "        -2.7393e-02,  1.5198e-02,  4.0168e-02,  1.9247e-02,  3.9879e-02,\n",
      "        -2.4996e-02,  3.8442e-02,  4.2256e-02,  1.4581e-02, -3.4033e-03,\n",
      "         6.2702e-03, -2.4488e-02,  4.4082e-02, -3.0703e-02,  2.0607e-02,\n",
      "         2.7565e-03, -3.5843e-02, -1.6878e-02,  8.2345e-03, -5.1275e-03,\n",
      "         3.7448e-02,  5.9411e-03,  3.6645e-02, -4.1222e-02,  3.9711e-02,\n",
      "         1.6889e-02, -1.2387e-02, -3.9458e-02,  2.1506e-02,  3.7651e-02,\n",
      "         2.6304e-03,  9.8003e-03, -3.3171e-02,  3.6295e-02, -3.9228e-02,\n",
      "         2.3716e-02, -9.3096e-03, -3.1919e-02, -3.9555e-02, -5.1858e-03,\n",
      "        -2.7704e-02,  2.6121e-02,  3.3498e-02, -3.4938e-02, -7.2943e-03,\n",
      "         1.3995e-02, -1.0340e-02,  2.6633e-02, -1.0496e-02,  3.1616e-02,\n",
      "        -2.0109e-02,  1.3354e-02,  5.5129e-04,  3.0514e-02, -3.5807e-02,\n",
      "         1.6540e-02, -1.5617e-02,  1.9183e-02, -4.2925e-02, -1.2482e-03,\n",
      "         9.3237e-03,  5.3890e-03, -9.2507e-03, -4.2288e-02,  2.5876e-02,\n",
      "         2.8699e-02,  1.2363e-03,  2.4842e-03, -4.3293e-02, -1.5440e-02,\n",
      "        -2.0483e-02,  1.7686e-02,  9.5534e-03,  4.0360e-02,  3.5414e-02,\n",
      "         1.9932e-02,  4.0342e-02,  2.7744e-02, -3.2896e-02,  1.0186e-02,\n",
      "         4.4041e-02,  3.1619e-02,  2.8495e-02,  3.2783e-02,  3.2333e-03,\n",
      "         1.8168e-03,  3.2919e-03, -1.8642e-02,  3.9413e-02,  1.2336e-02,\n",
      "         3.5738e-02,  2.5942e-02,  3.0614e-02, -2.9664e-02, -4.1489e-02,\n",
      "         2.7172e-02,  4.0679e-02,  2.1811e-02,  6.8087e-03,  3.2985e-02,\n",
      "         2.2082e-02, -3.7688e-03, -2.9676e-02,  1.6988e-02,  4.3970e-02,\n",
      "         9.8651e-04,  1.5578e-02, -4.3868e-02, -3.1218e-02,  2.7545e-03,\n",
      "        -5.9570e-03,  1.6094e-02, -1.2796e-02,  1.6258e-02,  1.1322e-02,\n",
      "         3.4427e-02, -2.4794e-02, -3.5421e-02,  3.0885e-02,  2.8755e-02,\n",
      "         3.5656e-02,  2.7230e-02, -3.1418e-02,  2.2695e-02, -6.2385e-03,\n",
      "        -2.3104e-02, -4.3827e-02, -3.4712e-02, -2.7685e-03, -4.4349e-03,\n",
      "         2.8852e-02,  2.4404e-02,  2.1996e-02,  3.4689e-02,  3.0617e-04,\n",
      "        -1.6018e-02, -1.6820e-02,  3.2382e-02, -1.0500e-02, -1.2894e-02,\n",
      "         1.2799e-02, -1.4586e-02, -3.4061e-02, -4.3566e-02,  2.7894e-02,\n",
      "         6.0702e-03, -9.6744e-03, -1.0005e-02,  3.2552e-03, -3.4843e-02,\n",
      "         2.4169e-02,  3.4178e-03, -3.8838e-02, -2.3536e-02,  1.9159e-02,\n",
      "        -1.8542e-02, -1.5171e-02,  1.9789e-02,  2.6141e-03,  1.6221e-02,\n",
      "        -2.1288e-02,  1.9556e-02, -2.4394e-03, -3.9937e-02,  3.0680e-03,\n",
      "         3.9482e-02,  3.5446e-02, -2.0575e-02,  1.8801e-02,  2.9529e-02,\n",
      "        -2.3910e-02, -1.0183e-02, -3.9349e-02,  2.3315e-02,  3.3905e-02,\n",
      "         3.2299e-02, -3.3766e-02,  4.3757e-02, -2.2309e-02, -4.1333e-02,\n",
      "        -3.9222e-02,  3.5536e-02, -2.7095e-02, -2.6144e-02, -2.2087e-02,\n",
      "         1.3390e-02, -1.7585e-02,  3.2925e-02,  1.5394e-02, -6.5961e-03,\n",
      "        -1.2445e-02,  1.0696e-02,  2.2255e-02, -2.8676e-03, -1.8067e-02,\n",
      "         3.2511e-02, -1.1994e-02, -1.3271e-02,  3.7029e-02,  1.9007e-03,\n",
      "        -3.2438e-02, -3.8171e-02,  6.7619e-03, -4.2567e-02,  6.4188e-03,\n",
      "         2.4571e-02,  1.3558e-02, -6.6265e-03, -8.5432e-04,  1.4799e-02,\n",
      "        -5.2225e-03,  3.9215e-02,  3.7109e-03,  5.2378e-03, -2.7148e-02,\n",
      "         4.1193e-02, -1.8290e-02,  1.5428e-02, -2.7679e-02,  3.5449e-02,\n",
      "         1.3102e-02,  1.7809e-02, -2.5528e-02, -3.6497e-03,  8.3242e-03,\n",
      "         8.6812e-04, -3.9774e-02,  1.9600e-02,  1.2225e-02, -3.0266e-02,\n",
      "         1.4488e-02,  1.7990e-02, -4.2374e-02, -1.9471e-02,  2.7538e-02,\n",
      "         7.8781e-03,  1.9570e-02,  2.6314e-02,  3.5228e-02, -4.7091e-03,\n",
      "        -2.8608e-02, -2.3406e-02,  2.5459e-02,  1.5786e-03,  4.3976e-02,\n",
      "        -1.4327e-02, -5.2630e-04,  1.3229e-02, -3.7643e-02, -2.1292e-02,\n",
      "        -2.6217e-02, -3.9509e-02, -3.8087e-04,  2.9349e-02,  3.2397e-03,\n",
      "        -4.2262e-02,  1.1971e-02, -1.5200e-02,  2.2284e-02, -4.3984e-02,\n",
      "        -1.9316e-02,  3.0642e-02, -1.5285e-03, -4.0415e-03,  3.0020e-02,\n",
      "        -1.5549e-02,  5.0884e-03, -2.9419e-02,  3.1511e-02,  1.4169e-02,\n",
      "         1.2710e-02, -1.6437e-02, -4.3817e-03, -3.3716e-02, -5.0885e-03,\n",
      "        -3.8404e-02, -3.6470e-02], requires_grad=True)\n",
      "linear_relu.4.weight\n",
      "Parameter containing:\n",
      "tensor([[-0.0394,  0.0304, -0.0206,  ..., -0.0260, -0.0108,  0.0237],\n",
      "        [ 0.0007,  0.0440,  0.0404,  ...,  0.0335,  0.0105, -0.0086],\n",
      "        [ 0.0141, -0.0133,  0.0172,  ...,  0.0253, -0.0307, -0.0177],\n",
      "        ...,\n",
      "        [ 0.0300,  0.0148,  0.0002,  ..., -0.0428,  0.0012,  0.0398],\n",
      "        [-0.0295,  0.0214, -0.0119,  ...,  0.0042,  0.0269, -0.0409],\n",
      "        [-0.0165, -0.0342, -0.0145,  ..., -0.0370, -0.0169, -0.0288]],\n",
      "       requires_grad=True)\n",
      "linear_relu.4.bias\n",
      "Parameter containing:\n",
      "tensor([-0.0383,  0.0087,  0.0157, -0.0270, -0.0431,  0.0274, -0.0100, -0.0020,\n",
      "         0.0098, -0.0158], requires_grad=True)\n"
     ]
    }
   ],
   "source": [
    "for name,param in model.named_parameters():\n",
    "    print(name)\n",
    "    print(param)"
   ]
  },
  {
   "cell_type": "code",
   "execution_count": 93,
   "metadata": {},
   "outputs": [
    {
     "data": {
      "text/plain": [
       "Sequential(\n",
       "  (0): Linear(in_features=784, out_features=512, bias=True)\n",
       "  (1): ReLU()\n",
       "  (2): Linear(in_features=512, out_features=512, bias=True)\n",
       "  (3): ReLU()\n",
       "  (4): Linear(in_features=512, out_features=10, bias=True)\n",
       "  (5): ReLU()\n",
       ")"
      ]
     },
     "execution_count": 93,
     "metadata": {},
     "output_type": "execute_result"
    }
   ],
   "source": [
    "model.linear_relu"
   ]
  },
  {
   "cell_type": "code",
   "execution_count": null,
   "metadata": {},
   "outputs": [],
   "source": []
  }
 ],
 "metadata": {
  "kernelspec": {
   "display_name": "Python 3",
   "language": "python",
   "name": "python3"
  },
  "language_info": {
   "codemirror_mode": {
    "name": "ipython",
    "version": 3
   },
   "file_extension": ".py",
   "mimetype": "text/x-python",
   "name": "python",
   "nbconvert_exporter": "python",
   "pygments_lexer": "ipython3",
   "version": "3.8.5"
  }
 },
 "nbformat": 4,
 "nbformat_minor": 4
}
