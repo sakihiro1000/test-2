{
 "cells": [
  {
   "cell_type": "code",
   "execution_count": 1,
   "metadata": {
    "collapsed": true,
    "jupyter": {
     "outputs_hidden": true
    }
   },
   "outputs": [
    {
     "name": "stdout",
     "output_type": "stream",
     "text": [
      "Looking in links: https://pytorch-geometric.com/whl/torch-1.5.0.html\n",
      "\u001b[31mERROR: Could not find a version that satisfies the requirement torch-scatter==latest+cu101 (from versions: latest+cpu, 0.3.0, 1.0.2, 1.0.3, 1.0.4, 1.1.0, 1.1.1, 1.1.2, 1.2.0, 1.3.0, 1.3.1, 1.3.2, 1.4.0, 2.0.2, 2.0.3, 2.0.4, 2.0.4+cpu, 2.0.5, 2.0.5+cpu, 2.0.6, 2.0.7)\u001b[0m\n",
      "\u001b[31mERROR: No matching distribution found for torch-scatter==latest+cu101\u001b[0m\n",
      "Looking in links: https://pytorch-geometric.com/whl/torch-1.5.0.html\n",
      "\u001b[31mERROR: Could not find a version that satisfies the requirement torch-sparse==latest+cu101 (from versions: latest+cpu, 0.1.0, 0.2.0, 0.2.1, 0.2.2, 0.2.3, 0.2.4, 0.4.0, 0.4.1, 0.4.2, 0.4.3, 0.4.4, 0.5.1, 0.6.0, 0.6.1, 0.6.2+cpu, 0.6.3, 0.6.3+cpu, 0.6.4, 0.6.4+cpu, 0.6.5, 0.6.5+cpu, 0.6.6, 0.6.6+cpu, 0.6.7, 0.6.7+cpu, 0.6.8, 0.6.9)\u001b[0m\n",
      "\u001b[31mERROR: No matching distribution found for torch-sparse==latest+cu101\u001b[0m\n",
      "Looking in links: https://pytorch-geometric.com/whl/torch-1.5.0.html\n",
      "\u001b[31mERROR: Could not find a version that satisfies the requirement torch-cluster==latest+cu101 (from versions: latest+cpu, 0.1.1, 0.2.3, 0.2.4, 1.0.1, 1.0.3, 1.1.1, 1.1.2, 1.1.3, 1.1.4, 1.1.5, 1.2.1, 1.2.2, 1.2.3, 1.2.4, 1.3.0, 1.4.0, 1.4.1, 1.4.2, 1.4.3a1, 1.4.3, 1.4.4, 1.4.5, 1.5.2, 1.5.3, 1.5.4, 1.5.4+cpu, 1.5.5, 1.5.5+cpu, 1.5.6, 1.5.6+cpu, 1.5.7, 1.5.7+cpu, 1.5.8, 1.5.9)\u001b[0m\n",
      "\u001b[31mERROR: No matching distribution found for torch-cluster==latest+cu101\u001b[0m\n",
      "Looking in links: https://pytorch-geometric.com/whl/torch-1.5.0.html\n",
      "\u001b[31mERROR: Could not find a version that satisfies the requirement torch-spline-conv==latest+cu101 (from versions: latest+cpu, 0.1.0, 1.0.0, 1.0.1, 1.0.3, 1.0.4, 1.0.5, 1.0.6, 1.1.0, 1.1.1, 1.2.0, 1.2.0+cpu, 1.2.1)\u001b[0m\n",
      "\u001b[31mERROR: No matching distribution found for torch-spline-conv==latest+cu101\u001b[0m\n",
      "Collecting torch-geometric\n",
      "  Downloading torch_geometric-1.7.0.tar.gz (212 kB)\n",
      "\u001b[K     |████████████████████████████████| 212 kB 11.4 MB/s eta 0:00:01\n",
      "\u001b[?25hRequirement already satisfied: numpy in /Users/sakiura/.pyenv/versions/Anaconda3-2020.11/lib/python3.8/site-packages (from torch-geometric) (1.19.2)\n",
      "Requirement already satisfied: tqdm in /Users/sakiura/.pyenv/versions/Anaconda3-2020.11/lib/python3.8/site-packages (from torch-geometric) (4.50.2)\n",
      "Requirement already satisfied: scipy in /Users/sakiura/.pyenv/versions/Anaconda3-2020.11/lib/python3.8/site-packages (from torch-geometric) (1.5.2)\n",
      "Requirement already satisfied: networkx in /Users/sakiura/.pyenv/versions/Anaconda3-2020.11/lib/python3.8/site-packages (from torch-geometric) (2.5)\n",
      "Collecting python-louvain\n",
      "  Downloading python-louvain-0.15.tar.gz (204 kB)\n",
      "\u001b[K     |████████████████████████████████| 204 kB 16.4 MB/s eta 0:00:01\n",
      "\u001b[?25hRequirement already satisfied: scikit-learn in /Users/sakiura/.pyenv/versions/Anaconda3-2020.11/lib/python3.8/site-packages (from torch-geometric) (0.23.2)\n",
      "Requirement already satisfied: numba in /Users/sakiura/.pyenv/versions/Anaconda3-2020.11/lib/python3.8/site-packages (from torch-geometric) (0.51.2)\n",
      "Requirement already satisfied: requests in /Users/sakiura/.pyenv/versions/Anaconda3-2020.11/lib/python3.8/site-packages (from torch-geometric) (2.24.0)\n",
      "Requirement already satisfied: pandas in /Users/sakiura/.pyenv/versions/Anaconda3-2020.11/lib/python3.8/site-packages (from torch-geometric) (1.1.3)\n",
      "Collecting rdflib\n",
      "  Downloading rdflib-5.0.0-py3-none-any.whl (231 kB)\n",
      "\u001b[K     |████████████████████████████████| 231 kB 2.2 MB/s eta 0:00:01\n",
      "\u001b[?25hRequirement already satisfied: h5py in /Users/sakiura/.pyenv/versions/Anaconda3-2020.11/lib/python3.8/site-packages (from torch-geometric) (2.10.0)\n",
      "Collecting googledrivedownloader\n",
      "  Downloading googledrivedownloader-0.4-py2.py3-none-any.whl (3.9 kB)\n",
      "Collecting ase\n",
      "  Downloading ase-3.21.1-py3-none-any.whl (2.2 MB)\n",
      "\u001b[K     |████████████████████████████████| 2.2 MB 19.0 MB/s eta 0:00:01\n",
      "\u001b[?25hRequirement already satisfied: jinja2 in /Users/sakiura/.pyenv/versions/Anaconda3-2020.11/lib/python3.8/site-packages (from torch-geometric) (2.11.2)\n",
      "Requirement already satisfied: decorator>=4.3.0 in /Users/sakiura/.pyenv/versions/Anaconda3-2020.11/lib/python3.8/site-packages (from networkx->torch-geometric) (4.4.2)\n",
      "Requirement already satisfied: joblib>=0.11 in /Users/sakiura/.pyenv/versions/Anaconda3-2020.11/lib/python3.8/site-packages (from scikit-learn->torch-geometric) (0.17.0)\n",
      "Requirement already satisfied: threadpoolctl>=2.0.0 in /Users/sakiura/.pyenv/versions/Anaconda3-2020.11/lib/python3.8/site-packages (from scikit-learn->torch-geometric) (2.1.0)\n",
      "Requirement already satisfied: setuptools in /Users/sakiura/.pyenv/versions/Anaconda3-2020.11/lib/python3.8/site-packages (from numba->torch-geometric) (50.3.1.post20201107)\n",
      "Requirement already satisfied: llvmlite<0.35,>=0.34.0.dev0 in /Users/sakiura/.pyenv/versions/Anaconda3-2020.11/lib/python3.8/site-packages (from numba->torch-geometric) (0.34.0)\n",
      "Requirement already satisfied: chardet<4,>=3.0.2 in /Users/sakiura/.pyenv/versions/Anaconda3-2020.11/lib/python3.8/site-packages (from requests->torch-geometric) (3.0.4)\n",
      "Requirement already satisfied: certifi>=2017.4.17 in /Users/sakiura/.pyenv/versions/Anaconda3-2020.11/lib/python3.8/site-packages (from requests->torch-geometric) (2020.6.20)\n",
      "Requirement already satisfied: idna<3,>=2.5 in /Users/sakiura/.pyenv/versions/Anaconda3-2020.11/lib/python3.8/site-packages (from requests->torch-geometric) (2.10)\n",
      "Requirement already satisfied: urllib3!=1.25.0,!=1.25.1,<1.26,>=1.21.1 in /Users/sakiura/.pyenv/versions/Anaconda3-2020.11/lib/python3.8/site-packages (from requests->torch-geometric) (1.25.11)\n",
      "Requirement already satisfied: python-dateutil>=2.7.3 in /Users/sakiura/.pyenv/versions/Anaconda3-2020.11/lib/python3.8/site-packages (from pandas->torch-geometric) (2.8.1)\n",
      "Requirement already satisfied: pytz>=2017.2 in /Users/sakiura/.pyenv/versions/Anaconda3-2020.11/lib/python3.8/site-packages (from pandas->torch-geometric) (2020.1)\n",
      "Requirement already satisfied: six in /Users/sakiura/.pyenv/versions/Anaconda3-2020.11/lib/python3.8/site-packages (from rdflib->torch-geometric) (1.15.0)\n",
      "Collecting isodate\n",
      "  Downloading isodate-0.6.0-py2.py3-none-any.whl (45 kB)\n",
      "\u001b[K     |████████████████████████████████| 45 kB 5.5 MB/s  eta 0:00:01\n",
      "\u001b[?25hRequirement already satisfied: pyparsing in /Users/sakiura/.pyenv/versions/Anaconda3-2020.11/lib/python3.8/site-packages (from rdflib->torch-geometric) (2.4.7)\n",
      "Requirement already satisfied: matplotlib>=2.0.0 in /Users/sakiura/.pyenv/versions/Anaconda3-2020.11/lib/python3.8/site-packages (from ase->torch-geometric) (3.3.2)\n",
      "Requirement already satisfied: MarkupSafe>=0.23 in /Users/sakiura/.pyenv/versions/Anaconda3-2020.11/lib/python3.8/site-packages (from jinja2->torch-geometric) (1.1.1)\n",
      "Requirement already satisfied: pillow>=6.2.0 in /Users/sakiura/.pyenv/versions/Anaconda3-2020.11/lib/python3.8/site-packages (from matplotlib>=2.0.0->ase->torch-geometric) (8.0.1)\n",
      "Requirement already satisfied: kiwisolver>=1.0.1 in /Users/sakiura/.pyenv/versions/Anaconda3-2020.11/lib/python3.8/site-packages (from matplotlib>=2.0.0->ase->torch-geometric) (1.3.0)\n",
      "Requirement already satisfied: cycler>=0.10 in /Users/sakiura/.pyenv/versions/Anaconda3-2020.11/lib/python3.8/site-packages (from matplotlib>=2.0.0->ase->torch-geometric) (0.10.0)\n",
      "Building wheels for collected packages: torch-geometric, python-louvain\n",
      "  Building wheel for torch-geometric (setup.py) ... \u001b[?25ldone\n",
      "\u001b[?25h  Created wheel for torch-geometric: filename=torch_geometric-1.7.0-py3-none-any.whl size=365384 sha256=55d3ba393ee00a258a37cb48b8bc84bdf04f91932adf4b1830d32b20cb3f3f40\n",
      "  Stored in directory: /Users/sakiura/Library/Caches/pip/wheels/c5/aa/bf/8be32199f2301dc154204f66b6abcff4f83a972e6aadec917e\n",
      "  Building wheel for python-louvain (setup.py) ... \u001b[?25ldone\n",
      "\u001b[?25h  Created wheel for python-louvain: filename=python_louvain-0.15-py3-none-any.whl size=9401 sha256=85abdb4cd99d340658d9fdf32c833728b49a558fd7b9759d06d2adf6bb117b00\n",
      "  Stored in directory: /Users/sakiura/Library/Caches/pip/wheels/c8/68/21/d04741956802581119d875a0d9fce6895e8f9ffae71223f3e3\n",
      "Successfully built torch-geometric python-louvain\n",
      "Installing collected packages: python-louvain, isodate, rdflib, googledrivedownloader, ase, torch-geometric\n",
      "Successfully installed ase-3.21.1 googledrivedownloader-0.4 isodate-0.6.0 python-louvain-0.15 rdflib-5.0.0 torch-geometric-1.7.0\n"
     ]
    }
   ],
   "source": [
    "# !pip install torch-scatter==latest+cu101 -f https://pytorch-geometric.com/whl/torch-1.5.0.html\n",
    "# !pip install torch-sparse==latest+cu101 -f https://pytorch-geometric.com/whl/torch-1.5.0.html\n",
    "# !pip install torch-cluster==latest+cu101 -f https://pytorch-geometric.com/whl/torch-1.5.0.html\n",
    "# !pip install torch-spline-conv==latest+cu101 -f https://pytorch-geometric.com/whl/torch-1.5.0.html\n",
    "# !pip install torch-geometric"
   ]
  },
  {
   "cell_type": "code",
   "execution_count": 2,
   "metadata": {},
   "outputs": [
    {
     "ename": "ModuleNotFoundError",
     "evalue": "No module named 'torch_sparse'",
     "output_type": "error",
     "traceback": [
      "\u001b[0;31m---------------------------------------------------------------------------\u001b[0m",
      "\u001b[0;31mModuleNotFoundError\u001b[0m                       Traceback (most recent call last)",
      "\u001b[0;32m<ipython-input-2-b336892afbe1>\u001b[0m in \u001b[0;36m<module>\u001b[0;34m\u001b[0m\n\u001b[0;32m----> 1\u001b[0;31m \u001b[0;32mfrom\u001b[0m \u001b[0mtorch_geometric\u001b[0m\u001b[0;34m.\u001b[0m\u001b[0mdata\u001b[0m \u001b[0;32mimport\u001b[0m \u001b[0mData\u001b[0m\u001b[0;34m\u001b[0m\u001b[0;34m\u001b[0m\u001b[0m\n\u001b[0m",
      "\u001b[0;32m~/.pyenv/versions/Anaconda3-2020.11/lib/python3.8/site-packages/torch_geometric/__init__.py\u001b[0m in \u001b[0;36m<module>\u001b[0;34m\u001b[0m\n\u001b[1;32m      3\u001b[0m \u001b[0;34m\u001b[0m\u001b[0m\n\u001b[1;32m      4\u001b[0m \u001b[0;32mfrom\u001b[0m \u001b[0;34m.\u001b[0m\u001b[0mdebug\u001b[0m \u001b[0;32mimport\u001b[0m \u001b[0mis_debug_enabled\u001b[0m\u001b[0;34m,\u001b[0m \u001b[0mdebug\u001b[0m\u001b[0;34m,\u001b[0m \u001b[0mset_debug\u001b[0m\u001b[0;34m\u001b[0m\u001b[0;34m\u001b[0m\u001b[0m\n\u001b[0;32m----> 5\u001b[0;31m \u001b[0;32mimport\u001b[0m \u001b[0mtorch_geometric\u001b[0m\u001b[0;34m.\u001b[0m\u001b[0mdata\u001b[0m\u001b[0;34m\u001b[0m\u001b[0;34m\u001b[0m\u001b[0m\n\u001b[0m\u001b[1;32m      6\u001b[0m \u001b[0;32mimport\u001b[0m \u001b[0mtorch_geometric\u001b[0m\u001b[0;34m.\u001b[0m\u001b[0mtransforms\u001b[0m\u001b[0;34m\u001b[0m\u001b[0;34m\u001b[0m\u001b[0m\n\u001b[1;32m      7\u001b[0m \u001b[0;32mimport\u001b[0m \u001b[0mtorch_geometric\u001b[0m\u001b[0;34m.\u001b[0m\u001b[0mutils\u001b[0m\u001b[0;34m\u001b[0m\u001b[0;34m\u001b[0m\u001b[0m\n",
      "\u001b[0;32m~/.pyenv/versions/Anaconda3-2020.11/lib/python3.8/site-packages/torch_geometric/data/__init__.py\u001b[0m in \u001b[0;36m<module>\u001b[0;34m\u001b[0m\n\u001b[0;32m----> 1\u001b[0;31m \u001b[0;32mfrom\u001b[0m \u001b[0;34m.\u001b[0m\u001b[0mdata\u001b[0m \u001b[0;32mimport\u001b[0m \u001b[0mData\u001b[0m\u001b[0;34m\u001b[0m\u001b[0;34m\u001b[0m\u001b[0m\n\u001b[0m\u001b[1;32m      2\u001b[0m \u001b[0;32mfrom\u001b[0m \u001b[0;34m.\u001b[0m\u001b[0mtemporal\u001b[0m \u001b[0;32mimport\u001b[0m \u001b[0mTemporalData\u001b[0m\u001b[0;34m\u001b[0m\u001b[0;34m\u001b[0m\u001b[0m\n\u001b[1;32m      3\u001b[0m \u001b[0;32mfrom\u001b[0m \u001b[0;34m.\u001b[0m\u001b[0mbatch\u001b[0m \u001b[0;32mimport\u001b[0m \u001b[0mBatch\u001b[0m\u001b[0;34m\u001b[0m\u001b[0;34m\u001b[0m\u001b[0m\n\u001b[1;32m      4\u001b[0m \u001b[0;32mfrom\u001b[0m \u001b[0;34m.\u001b[0m\u001b[0mdataset\u001b[0m \u001b[0;32mimport\u001b[0m \u001b[0mDataset\u001b[0m\u001b[0;34m\u001b[0m\u001b[0;34m\u001b[0m\u001b[0m\n\u001b[1;32m      5\u001b[0m \u001b[0;32mfrom\u001b[0m \u001b[0;34m.\u001b[0m\u001b[0min_memory_dataset\u001b[0m \u001b[0;32mimport\u001b[0m \u001b[0mInMemoryDataset\u001b[0m\u001b[0;34m\u001b[0m\u001b[0;34m\u001b[0m\u001b[0m\n",
      "\u001b[0;32m~/.pyenv/versions/Anaconda3-2020.11/lib/python3.8/site-packages/torch_geometric/data/data.py\u001b[0m in \u001b[0;36m<module>\u001b[0;34m\u001b[0m\n\u001b[1;32m      6\u001b[0m \u001b[0;32mimport\u001b[0m \u001b[0mtorch\u001b[0m\u001b[0;34m\u001b[0m\u001b[0;34m\u001b[0m\u001b[0m\n\u001b[1;32m      7\u001b[0m \u001b[0;32mimport\u001b[0m \u001b[0mtorch_geometric\u001b[0m\u001b[0;34m\u001b[0m\u001b[0;34m\u001b[0m\u001b[0m\n\u001b[0;32m----> 8\u001b[0;31m \u001b[0;32mfrom\u001b[0m \u001b[0mtorch_sparse\u001b[0m \u001b[0;32mimport\u001b[0m \u001b[0mcoalesce\u001b[0m\u001b[0;34m,\u001b[0m \u001b[0mSparseTensor\u001b[0m\u001b[0;34m\u001b[0m\u001b[0;34m\u001b[0m\u001b[0m\n\u001b[0m\u001b[1;32m      9\u001b[0m from torch_geometric.utils import (contains_isolated_nodes,\n\u001b[1;32m     10\u001b[0m                                    contains_self_loops, is_undirected)\n",
      "\u001b[0;31mModuleNotFoundError\u001b[0m: No module named 'torch_sparse'"
     ]
    }
   ],
   "source": [
    "from torch_geometric.data import Data"
   ]
  },
  {
   "cell_type": "code",
   "execution_count": 4,
   "metadata": {
    "collapsed": true,
    "jupyter": {
     "outputs_hidden": true
    }
   },
   "outputs": [
    {
     "name": "stdout",
     "output_type": "stream",
     "text": [
      "Looking in links: https://pytorch-geometric.com/whl/torch-+.html\n",
      "Collecting torch-scatter\n",
      "  Downloading torch_scatter-2.0.7.tar.gz (21 kB)\n",
      "Building wheels for collected packages: torch-scatter\n",
      "  Building wheel for torch-scatter (setup.py) ... \u001b[?25ldone\n",
      "\u001b[?25h  Created wheel for torch-scatter: filename=torch_scatter-2.0.7-cp38-cp38-macosx_10_9_x86_64.whl size=304097 sha256=bf7699b0689d654fd1641d50ed4b81d38cf7a63a5620dcf2887b571f8b12e3b8\n",
      "  Stored in directory: /Users/sakiura/Library/Caches/pip/wheels/d7/57/04/55d767655315a82be1bf93dff1925a1d84b284eb4f0a4f054d\n",
      "Successfully built torch-scatter\n",
      "Installing collected packages: torch-scatter\n",
      "Successfully installed torch-scatter-2.0.7\n",
      "Looking in links: https://pytorch-geometric.com/whl/torch-+.html\n",
      "Collecting torch-sparse\n",
      "  Downloading torch_sparse-0.6.9.tar.gz (36 kB)\n",
      "Requirement already satisfied: scipy in /Users/sakiura/.pyenv/versions/Anaconda3-2020.11/lib/python3.8/site-packages (from torch-sparse) (1.5.2)\n",
      "Requirement already satisfied: numpy>=1.14.5 in /Users/sakiura/.pyenv/versions/Anaconda3-2020.11/lib/python3.8/site-packages (from scipy->torch-sparse) (1.19.2)\n",
      "Building wheels for collected packages: torch-sparse\n",
      "  Building wheel for torch-sparse (setup.py) ... \u001b[?25ldone\n",
      "\u001b[?25h  Created wheel for torch-sparse: filename=torch_sparse-0.6.9-cp38-cp38-macosx_10_9_x86_64.whl size=424355 sha256=22f79162128dd397ce2a608fd1768c0734554bcf94807b81d9ea94b53210ffba\n",
      "  Stored in directory: /Users/sakiura/Library/Caches/pip/wheels/0e/b7/4d/3ba45450ebde59ef71a826f2d168a1147d93128bc6c7ca25bb\n",
      "Successfully built torch-sparse\n",
      "Installing collected packages: torch-sparse\n",
      "Successfully installed torch-sparse-0.6.9\n",
      "Looking in links: https://pytorch-geometric.com/whl/torch-+.html\n",
      "Collecting torch-cluster\n",
      "  Downloading torch_cluster-1.5.9.tar.gz (38 kB)\n",
      "Building wheels for collected packages: torch-cluster\n",
      "  Building wheel for torch-cluster (setup.py) ... \u001b[?25ldone\n",
      "\u001b[?25h  Created wheel for torch-cluster: filename=torch_cluster-1.5.9-cp38-cp38-macosx_10_9_x86_64.whl size=332822 sha256=d28b162511376bf0ed68e1785b11775c1633622ec816ad0de949e968978d6727\n",
      "  Stored in directory: /Users/sakiura/Library/Caches/pip/wheels/11/d3/dd/a7f29ac7b1d7b064cffdf90dfedc6862fa33727efcc1057c02\n",
      "Successfully built torch-cluster\n",
      "Installing collected packages: torch-cluster\n",
      "Successfully installed torch-cluster-1.5.9\n",
      "Looking in links: https://pytorch-geometric.com/whl/torch-+.html\n",
      "Collecting torch-spline-conv\n",
      "  Downloading torch_spline_conv-1.2.1.tar.gz (13 kB)\n",
      "Building wheels for collected packages: torch-spline-conv\n",
      "  Building wheel for torch-spline-conv (setup.py) ... \u001b[?25ldone\n",
      "\u001b[?25h  Created wheel for torch-spline-conv: filename=torch_spline_conv-1.2.1-cp38-cp38-macosx_10_9_x86_64.whl size=102157 sha256=fe4136525e4549196cebb9e1bf8aac838a1f4b207806afc7571a2db8b2f44d2c\n",
      "  Stored in directory: /Users/sakiura/Library/Caches/pip/wheels/f1/34/51/03f6eead20780340a7f7a188f714b5872a0db06e5856dd1ad8\n",
      "Successfully built torch-spline-conv\n",
      "Installing collected packages: torch-spline-conv\n",
      "Successfully installed torch-spline-conv-1.2.1\n",
      "Requirement already satisfied: torch-geometric in /Users/sakiura/.pyenv/versions/Anaconda3-2020.11/lib/python3.8/site-packages (1.7.0)\n",
      "Requirement already satisfied: python-louvain in /Users/sakiura/.pyenv/versions/Anaconda3-2020.11/lib/python3.8/site-packages (from torch-geometric) (0.15)\n",
      "Requirement already satisfied: rdflib in /Users/sakiura/.pyenv/versions/Anaconda3-2020.11/lib/python3.8/site-packages (from torch-geometric) (5.0.0)\n",
      "Requirement already satisfied: scipy in /Users/sakiura/.pyenv/versions/Anaconda3-2020.11/lib/python3.8/site-packages (from torch-geometric) (1.5.2)\n",
      "Requirement already satisfied: ase in /Users/sakiura/.pyenv/versions/Anaconda3-2020.11/lib/python3.8/site-packages (from torch-geometric) (3.21.1)\n",
      "Requirement already satisfied: requests in /Users/sakiura/.pyenv/versions/Anaconda3-2020.11/lib/python3.8/site-packages (from torch-geometric) (2.24.0)\n",
      "Requirement already satisfied: h5py in /Users/sakiura/.pyenv/versions/Anaconda3-2020.11/lib/python3.8/site-packages (from torch-geometric) (2.10.0)\n",
      "Requirement already satisfied: networkx in /Users/sakiura/.pyenv/versions/Anaconda3-2020.11/lib/python3.8/site-packages (from torch-geometric) (2.5)\n",
      "Requirement already satisfied: numba in /Users/sakiura/.pyenv/versions/Anaconda3-2020.11/lib/python3.8/site-packages (from torch-geometric) (0.51.2)\n",
      "Requirement already satisfied: googledrivedownloader in /Users/sakiura/.pyenv/versions/Anaconda3-2020.11/lib/python3.8/site-packages (from torch-geometric) (0.4)\n",
      "Requirement already satisfied: pandas in /Users/sakiura/.pyenv/versions/Anaconda3-2020.11/lib/python3.8/site-packages (from torch-geometric) (1.1.3)\n",
      "Requirement already satisfied: jinja2 in /Users/sakiura/.pyenv/versions/Anaconda3-2020.11/lib/python3.8/site-packages (from torch-geometric) (2.11.2)\n",
      "Requirement already satisfied: scikit-learn in /Users/sakiura/.pyenv/versions/Anaconda3-2020.11/lib/python3.8/site-packages (from torch-geometric) (0.23.2)\n",
      "Requirement already satisfied: tqdm in /Users/sakiura/.pyenv/versions/Anaconda3-2020.11/lib/python3.8/site-packages (from torch-geometric) (4.50.2)\n",
      "Requirement already satisfied: numpy in /Users/sakiura/.pyenv/versions/Anaconda3-2020.11/lib/python3.8/site-packages (from torch-geometric) (1.19.2)\n",
      "Requirement already satisfied: isodate in /Users/sakiura/.pyenv/versions/Anaconda3-2020.11/lib/python3.8/site-packages (from rdflib->torch-geometric) (0.6.0)\n",
      "Requirement already satisfied: pyparsing in /Users/sakiura/.pyenv/versions/Anaconda3-2020.11/lib/python3.8/site-packages (from rdflib->torch-geometric) (2.4.7)\n",
      "Requirement already satisfied: six in /Users/sakiura/.pyenv/versions/Anaconda3-2020.11/lib/python3.8/site-packages (from rdflib->torch-geometric) (1.15.0)\n",
      "Requirement already satisfied: matplotlib>=2.0.0 in /Users/sakiura/.pyenv/versions/Anaconda3-2020.11/lib/python3.8/site-packages (from ase->torch-geometric) (3.3.2)\n",
      "Requirement already satisfied: chardet<4,>=3.0.2 in /Users/sakiura/.pyenv/versions/Anaconda3-2020.11/lib/python3.8/site-packages (from requests->torch-geometric) (3.0.4)\n",
      "Requirement already satisfied: idna<3,>=2.5 in /Users/sakiura/.pyenv/versions/Anaconda3-2020.11/lib/python3.8/site-packages (from requests->torch-geometric) (2.10)\n",
      "Requirement already satisfied: certifi>=2017.4.17 in /Users/sakiura/.pyenv/versions/Anaconda3-2020.11/lib/python3.8/site-packages (from requests->torch-geometric) (2020.6.20)\n",
      "Requirement already satisfied: urllib3!=1.25.0,!=1.25.1,<1.26,>=1.21.1 in /Users/sakiura/.pyenv/versions/Anaconda3-2020.11/lib/python3.8/site-packages (from requests->torch-geometric) (1.25.11)\n",
      "Requirement already satisfied: decorator>=4.3.0 in /Users/sakiura/.pyenv/versions/Anaconda3-2020.11/lib/python3.8/site-packages (from networkx->torch-geometric) (4.4.2)\n",
      "Requirement already satisfied: llvmlite<0.35,>=0.34.0.dev0 in /Users/sakiura/.pyenv/versions/Anaconda3-2020.11/lib/python3.8/site-packages (from numba->torch-geometric) (0.34.0)\n",
      "Requirement already satisfied: setuptools in /Users/sakiura/.pyenv/versions/Anaconda3-2020.11/lib/python3.8/site-packages (from numba->torch-geometric) (50.3.1.post20201107)\n",
      "Requirement already satisfied: pytz>=2017.2 in /Users/sakiura/.pyenv/versions/Anaconda3-2020.11/lib/python3.8/site-packages (from pandas->torch-geometric) (2020.1)\n",
      "Requirement already satisfied: python-dateutil>=2.7.3 in /Users/sakiura/.pyenv/versions/Anaconda3-2020.11/lib/python3.8/site-packages (from pandas->torch-geometric) (2.8.1)\n",
      "Requirement already satisfied: MarkupSafe>=0.23 in /Users/sakiura/.pyenv/versions/Anaconda3-2020.11/lib/python3.8/site-packages (from jinja2->torch-geometric) (1.1.1)\n",
      "Requirement already satisfied: threadpoolctl>=2.0.0 in /Users/sakiura/.pyenv/versions/Anaconda3-2020.11/lib/python3.8/site-packages (from scikit-learn->torch-geometric) (2.1.0)\n",
      "Requirement already satisfied: joblib>=0.11 in /Users/sakiura/.pyenv/versions/Anaconda3-2020.11/lib/python3.8/site-packages (from scikit-learn->torch-geometric) (0.17.0)\n",
      "Requirement already satisfied: pillow>=6.2.0 in /Users/sakiura/.pyenv/versions/Anaconda3-2020.11/lib/python3.8/site-packages (from matplotlib>=2.0.0->ase->torch-geometric) (8.0.1)\n",
      "Requirement already satisfied: kiwisolver>=1.0.1 in /Users/sakiura/.pyenv/versions/Anaconda3-2020.11/lib/python3.8/site-packages (from matplotlib>=2.0.0->ase->torch-geometric) (1.3.0)\n",
      "Requirement already satisfied: cycler>=0.10 in /Users/sakiura/.pyenv/versions/Anaconda3-2020.11/lib/python3.8/site-packages (from matplotlib>=2.0.0->ase->torch-geometric) (0.10.0)\n"
     ]
    }
   ],
   "source": [
    "# !pip install torch-scatter -f https://pytorch-geometric.com/whl/torch-${TORCH}+${CUDA}.html\n",
    "# !pip install torch-sparse -f https://pytorch-geometric.com/whl/torch-${TORCH}+${CUDA}.html\n",
    "# !pip install torch-cluster -f https://pytorch-geometric.com/whl/torch-${TORCH}+${CUDA}.html\n",
    "# !pip install torch-spline-conv -f https://pytorch-geometric.com/whl/torch-${TORCH}+${CUDA}.html\n",
    "# !pip install torch-geometric"
   ]
  },
  {
   "cell_type": "code",
   "execution_count": 10,
   "metadata": {},
   "outputs": [],
   "source": [
    "import torch\n",
    "from torch_geometric.data import Data"
   ]
  },
  {
   "cell_type": "code",
   "execution_count": 7,
   "metadata": {},
   "outputs": [
    {
     "data": {
      "text/plain": [
       "torch_geometric.data.data.Data"
      ]
     },
     "execution_count": 7,
     "metadata": {},
     "output_type": "execute_result"
    }
   ],
   "source": [
    "Data"
   ]
  },
  {
   "cell_type": "code",
   "execution_count": null,
   "metadata": {},
   "outputs": [],
   "source": [
    "# sample code"
   ]
  },
  {
   "cell_type": "code",
   "execution_count": 11,
   "metadata": {},
   "outputs": [],
   "source": [
    "edge_index = torch.tensor([[0, 1, 1, 2],\n",
    "                           [1, 0, 2, 1]], dtype=torch.long)\n",
    "x = torch.tensor([[-1], [0], [1]], dtype=torch.float)"
   ]
  },
  {
   "cell_type": "code",
   "execution_count": 22,
   "metadata": {},
   "outputs": [
    {
     "data": {
      "text/plain": [
       "Data(edge_index=[2, 4], x=[3, 1])"
      ]
     },
     "execution_count": 22,
     "metadata": {},
     "output_type": "execute_result"
    }
   ],
   "source": [
    "graph1 = Data(x=x,edge_index=edge_index)\n",
    "graph1"
   ]
  },
  {
   "cell_type": "code",
   "execution_count": 18,
   "metadata": {},
   "outputs": [],
   "source": [
    "import os.path as osp\n",
    "\n",
    "import argparse\n",
    "import torch\n",
    "from torch_geometric.datasets import Planetoid\n",
    "import torch_geometric.transforms as T\n",
    "from torch_geometric.nn import GCNConv, GAE, VGAE\n",
    "from torch_geometric.utils import train_test_split_edges\n",
    "\n",
    "# parser = argparse.ArgumentParser()\n",
    "# parser.add_argument('--variational', action='store_true')\n",
    "# parser.add_argument('--linear', action='store_true')\n",
    "# parser.add_argument('--dataset', type=str, default='Cora',\n",
    "#                     choices=['Cora', 'CiteSeer', 'PubMed'])\n",
    "# parser.add_argument('--epochs', type=int, default=400)\n",
    "# args = parser.parse_args()\n",
    "\n",
    "# path = osp.join(osp.dirname(osp.realpath(__file__)), '..', 'data', 'Planetoid')\n",
    "# dataset = Planetoid(path, args.dataset, transform=T.NormalizeFeatures())\n",
    "# data = dataset[0]\n",
    "# data.train_mask = data.val_mask = data.test_mask = data.y = None\n",
    "# data = train_test_split_edges(data)\n",
    "\n",
    "\n",
    "# class GCNEncoder(torch.nn.Module):\n",
    "#     def __init__(self, in_channels, out_channels):\n",
    "#         super(GCNEncoder, self).__init__()\n",
    "#         self.conv1 = GCNConv(in_channels, 2 * out_channels, cached=True)\n",
    "#         self.conv2 = GCNConv(2 * out_channels, out_channels, cached=True)\n",
    "\n",
    "#     def forward(self, x, edge_index):\n",
    "#         x = self.conv1(x, edge_index).relu()\n",
    "#         return self.conv2(x, edge_index)\n",
    "\n",
    "\n",
    "# class VariationalGCNEncoder(torch.nn.Module):\n",
    "#     def __init__(self, in_channels, out_channels):\n",
    "#         super(VariationalGCNEncoder, self).__init__()\n",
    "#         self.conv1 = GCNConv(in_channels, 2 * out_channels, cached=True)\n",
    "#         self.conv_mu = GCNConv(2 * out_channels, out_channels, cached=True)\n",
    "#         self.conv_logstd = GCNConv(2 * out_channels, out_channels, cached=True)\n",
    "\n",
    "#     def forward(self, x, edge_index):\n",
    "#         x = self.conv1(x, edge_index).relu()\n",
    "#         return self.conv_mu(x, edge_index), self.conv_logstd(x, edge_index)\n",
    "\n",
    "\n",
    "# class LinearEncoder(torch.nn.Module):\n",
    "#     def __init__(self, in_channels, out_channels):\n",
    "#         super(LinearEncoder, self).__init__()\n",
    "#         self.conv = GCNConv(in_channels, out_channels, cached=True)\n",
    "\n",
    "#     def forward(self, x, edge_index):\n",
    "#         return self.conv(x, edge_index)\n",
    "\n",
    "\n",
    "# class VariationalLinearEncoder(torch.nn.Module):\n",
    "#     def __init__(self, in_channels, out_channels):\n",
    "#         super(VariationalLinearEncoder, self).__init__()\n",
    "#         self.conv_mu = GCNConv(in_channels, out_channels, cached=True)\n",
    "#         self.conv_logstd = GCNConv(in_channels, out_channels, cached=True)\n",
    "\n",
    "#     def forward(self, x, edge_index):\n",
    "#         return self.conv_mu(x, edge_index), self.conv_logstd(x, edge_index)\n",
    "\n",
    "\n",
    "# out_channels = 16\n",
    "# num_features = dataset.num_features\n",
    "\n",
    "# if not args.variational:\n",
    "#     if not args.linear:\n",
    "#         model = GAE(GCNEncoder(num_features, out_channels))\n",
    "#     else:\n",
    "#         model = GAE(LinearEncoder(num_features, out_channels))\n",
    "# else:\n",
    "#     if args.linear:\n",
    "#         model = VGAE(VariationalLinearEncoder(num_features, out_channels))\n",
    "#     else:\n",
    "#         model = VGAE(VariationalGCNEncoder(num_features, out_channels))\n",
    "\n",
    "# device = torch.device('cuda' if torch.cuda.is_available() else 'cpu')\n",
    "# model = model.to(device)\n",
    "# x = data.x.to(device)\n",
    "# train_pos_edge_index = data.train_pos_edge_index.to(device)\n",
    "# optimizer = torch.optim.Adam(model.parameters(), lr=0.01)\n",
    "\n",
    "\n",
    "# def train():\n",
    "#     model.train()\n",
    "#     optimizer.zero_grad()\n",
    "#     z = model.encode(x, train_pos_edge_index)\n",
    "#     loss = model.recon_loss(z, train_pos_edge_index)\n",
    "#     if args.variational:\n",
    "#         loss = loss + (1 / data.num_nodes) * model.kl_loss()\n",
    "#     loss.backward()\n",
    "#     optimizer.step()\n",
    "#     return float(loss)\n",
    "\n",
    "\n",
    "# def test(pos_edge_index, neg_edge_index):\n",
    "#     model.eval()\n",
    "#     with torch.no_grad():\n",
    "#         z = model.encode(x, train_pos_edge_index)\n",
    "#     return model.test(z, pos_edge_index, neg_edge_index)\n",
    "\n",
    "\n",
    "# for epoch in range(1, args.epochs + 1):\n",
    "#     loss = train()\n",
    "#     auc, ap = test(data.test_pos_edge_index, data.test_neg_edge_index)\n",
    "#     print('Epoch: {:03d}, AUC: {:.4f}, AP: {:.4f}'.format(epoch, auc, ap))"
   ]
  },
  {
   "cell_type": "code",
   "execution_count": 13,
   "metadata": {},
   "outputs": [],
   "source": [
    "class GCNEncoder(torch.nn.Module):\n",
    "    def __init__(self, in_channels, out_channels):\n",
    "        super(GCNEncoder, self).__init__()\n",
    "        self.conv1 = GCNConv(in_channels, 2 * out_channels, cached=True)\n",
    "        self.conv2 = GCNConv(2 * out_channels, out_channels, cached=True)\n",
    "\n",
    "    def forward(self, x, edge_index):\n",
    "        x = self.conv1(x, edge_index).relu()\n",
    "        return self.conv2(x, edge_index)"
   ]
  },
  {
   "cell_type": "code",
   "execution_count": 14,
   "metadata": {},
   "outputs": [],
   "source": [
    "class VariationalGCNEncoder(torch.nn.Module):\n",
    "    def __init__(self, in_channels, out_channels):\n",
    "        super(VariationalGCNEncoder, self).__init__()\n",
    "        self.conv1 = GCNConv(in_channels, 2 * out_channels, cached=True)\n",
    "        self.conv_mu = GCNConv(2 * out_channels, out_channels, cached=True)\n",
    "        self.conv_logstd = GCNConv(2 * out_channels, out_channels, cached=True)\n",
    "\n",
    "    def forward(self, x, edge_index):\n",
    "        x = self.conv1(x, edge_index).relu()\n",
    "        return self.conv_mu(x, edge_index), self.conv_logstd(x, edge_index)\n"
   ]
  },
  {
   "cell_type": "code",
   "execution_count": 15,
   "metadata": {},
   "outputs": [],
   "source": [
    "class LinearEncoder(torch.nn.Module):\n",
    "    def __init__(self, in_channels, out_channels):\n",
    "        super(LinearEncoder, self).__init__()\n",
    "        self.conv = GCNConv(in_channels, out_channels, cached=True)\n",
    "\n",
    "    def forward(self, x, edge_index):\n",
    "        return self.conv(x, edge_index)"
   ]
  },
  {
   "cell_type": "code",
   "execution_count": 16,
   "metadata": {},
   "outputs": [],
   "source": [
    "class VariationalLinearEncoder(torch.nn.Module):\n",
    "    def __init__(self, in_channels, out_channels):\n",
    "        super(VariationalLinearEncoder, self).__init__()\n",
    "        self.conv_mu = GCNConv(in_channels, out_channels, cached=True)\n",
    "        self.conv_logstd = GCNConv(in_channels, out_channels, cached=True)\n",
    "\n",
    "    def forward(self, x, edge_index):\n",
    "        return self.conv_mu(x, edge_index), self.conv_logstd(x, edge_index)"
   ]
  },
  {
   "cell_type": "code",
   "execution_count": null,
   "metadata": {},
   "outputs": [],
   "source": [
    "def train():\n",
    "    model.train()\n",
    "    optimizer.zero_grad()\n",
    "    z = model.encode(x, train_pos_edge_index)\n",
    "    loss = model.recon_loss(z, train_pos_edge_index)\n",
    "    if args.variational:\n",
    "        loss = loss + (1 / data.num_nodes) * model.kl_loss()\n",
    "    loss.backward()\n",
    "    optimizer.step()\n",
    "    return float(loss)\n",
    "\n",
    "\n",
    "def test(pos_edge_index, neg_edge_index):\n",
    "    model.eval()\n",
    "    with torch.no_grad():\n",
    "        z = model.encode(x, train_pos_edge_index)\n",
    "    return model.test(z, pos_edge_index, neg_edge_index)\n",
    "\n"
   ]
  },
  {
   "cell_type": "code",
   "execution_count": 23,
   "metadata": {},
   "outputs": [],
   "source": [
    "from torch_geometric.datasets import KarateClub"
   ]
  },
  {
   "cell_type": "code",
   "execution_count": 24,
   "metadata": {},
   "outputs": [],
   "source": [
    "dataset = KarateClub()"
   ]
  },
  {
   "cell_type": "code",
   "execution_count": 25,
   "metadata": {},
   "outputs": [],
   "source": [
    "data = dataset[0]"
   ]
  },
  {
   "cell_type": "code",
   "execution_count": 29,
   "metadata": {},
   "outputs": [
    {
     "data": {
      "text/plain": [
       "Data(edge_index=[2, 156], train_mask=[34], x=[34, 34], y=[34])"
      ]
     },
     "execution_count": 29,
     "metadata": {},
     "output_type": "execute_result"
    }
   ],
   "source": [
    "data"
   ]
  },
  {
   "cell_type": "code",
   "execution_count": 19,
   "metadata": {},
   "outputs": [
    {
     "ename": "NameError",
     "evalue": "name 'model' is not defined",
     "output_type": "error",
     "traceback": [
      "\u001b[0;31m---------------------------------------------------------------------------\u001b[0m",
      "\u001b[0;31mNameError\u001b[0m                                 Traceback (most recent call last)",
      "\u001b[0;32m<ipython-input-19-0cd9a03581f9>\u001b[0m in \u001b[0;36m<module>\u001b[0;34m\u001b[0m\n\u001b[1;32m      1\u001b[0m \u001b[0mdevice\u001b[0m \u001b[0;34m=\u001b[0m \u001b[0mtorch\u001b[0m\u001b[0;34m.\u001b[0m\u001b[0mdevice\u001b[0m\u001b[0;34m(\u001b[0m\u001b[0;34m'cuda'\u001b[0m \u001b[0;32mif\u001b[0m \u001b[0mtorch\u001b[0m\u001b[0;34m.\u001b[0m\u001b[0mcuda\u001b[0m\u001b[0;34m.\u001b[0m\u001b[0mis_available\u001b[0m\u001b[0;34m(\u001b[0m\u001b[0;34m)\u001b[0m \u001b[0;32melse\u001b[0m \u001b[0;34m'cpu'\u001b[0m\u001b[0;34m)\u001b[0m\u001b[0;34m\u001b[0m\u001b[0;34m\u001b[0m\u001b[0m\n\u001b[0;32m----> 2\u001b[0;31m \u001b[0mmodel\u001b[0m \u001b[0;34m=\u001b[0m \u001b[0mmodel\u001b[0m\u001b[0;34m.\u001b[0m\u001b[0mto\u001b[0m\u001b[0;34m(\u001b[0m\u001b[0mdevice\u001b[0m\u001b[0;34m)\u001b[0m\u001b[0;34m\u001b[0m\u001b[0;34m\u001b[0m\u001b[0m\n\u001b[0m\u001b[1;32m      3\u001b[0m \u001b[0mx\u001b[0m \u001b[0;34m=\u001b[0m \u001b[0mdata\u001b[0m\u001b[0;34m.\u001b[0m\u001b[0mx\u001b[0m\u001b[0;34m.\u001b[0m\u001b[0mto\u001b[0m\u001b[0;34m(\u001b[0m\u001b[0mdevice\u001b[0m\u001b[0;34m)\u001b[0m\u001b[0;34m\u001b[0m\u001b[0;34m\u001b[0m\u001b[0m\n\u001b[1;32m      4\u001b[0m \u001b[0mtrain_pos_edge_index\u001b[0m \u001b[0;34m=\u001b[0m \u001b[0mdata\u001b[0m\u001b[0;34m.\u001b[0m\u001b[0mtrain_pos_edge_index\u001b[0m\u001b[0;34m.\u001b[0m\u001b[0mto\u001b[0m\u001b[0;34m(\u001b[0m\u001b[0mdevice\u001b[0m\u001b[0;34m)\u001b[0m\u001b[0;34m\u001b[0m\u001b[0;34m\u001b[0m\u001b[0m\n\u001b[1;32m      5\u001b[0m \u001b[0moptimizer\u001b[0m \u001b[0;34m=\u001b[0m \u001b[0mtorch\u001b[0m\u001b[0;34m.\u001b[0m\u001b[0moptim\u001b[0m\u001b[0;34m.\u001b[0m\u001b[0mAdam\u001b[0m\u001b[0;34m(\u001b[0m\u001b[0mmodel\u001b[0m\u001b[0;34m.\u001b[0m\u001b[0mparameters\u001b[0m\u001b[0;34m(\u001b[0m\u001b[0;34m)\u001b[0m\u001b[0;34m,\u001b[0m \u001b[0mlr\u001b[0m\u001b[0;34m=\u001b[0m\u001b[0;36m0.01\u001b[0m\u001b[0;34m)\u001b[0m\u001b[0;34m\u001b[0m\u001b[0;34m\u001b[0m\u001b[0m\n",
      "\u001b[0;31mNameError\u001b[0m: name 'model' is not defined"
     ]
    }
   ],
   "source": [
    "device = torch.device('cuda' if torch.cuda.is_available() else 'cpu')\n",
    "model = model.to(device)\n",
    "x = data.x.to(device)\n",
    "train_pos_edge_index = data.train_pos_edge_index.to(device)\n",
    "optimizer = torch.optim.Adam(model.parameters(), lr=0.01)\n"
   ]
  },
  {
   "cell_type": "code",
   "execution_count": 17,
   "metadata": {},
   "outputs": [
    {
     "ename": "NameError",
     "evalue": "name 'dataset' is not defined",
     "output_type": "error",
     "traceback": [
      "\u001b[0;31m---------------------------------------------------------------------------\u001b[0m",
      "\u001b[0;31mNameError\u001b[0m                                 Traceback (most recent call last)",
      "\u001b[0;32m<ipython-input-17-7fafb06f7490>\u001b[0m in \u001b[0;36m<module>\u001b[0;34m\u001b[0m\n\u001b[1;32m      1\u001b[0m \u001b[0mout_channels\u001b[0m \u001b[0;34m=\u001b[0m \u001b[0;36m16\u001b[0m\u001b[0;34m\u001b[0m\u001b[0;34m\u001b[0m\u001b[0m\n\u001b[0;32m----> 2\u001b[0;31m \u001b[0mnum_features\u001b[0m \u001b[0;34m=\u001b[0m \u001b[0mdataset\u001b[0m\u001b[0;34m.\u001b[0m\u001b[0mnum_features\u001b[0m\u001b[0;34m\u001b[0m\u001b[0;34m\u001b[0m\u001b[0m\n\u001b[0m",
      "\u001b[0;31mNameError\u001b[0m: name 'dataset' is not defined"
     ]
    }
   ],
   "source": [
    "out_channels = 16\n",
    "num_features = dataset.num_features\n"
   ]
  },
  {
   "cell_type": "code",
   "execution_count": null,
   "metadata": {},
   "outputs": [],
   "source": []
  }
 ],
 "metadata": {
  "kernelspec": {
   "display_name": "Python 3",
   "language": "python",
   "name": "python3"
  },
  "language_info": {
   "codemirror_mode": {
    "name": "ipython",
    "version": 3
   },
   "file_extension": ".py",
   "mimetype": "text/x-python",
   "name": "python",
   "nbconvert_exporter": "python",
   "pygments_lexer": "ipython3",
   "version": "3.8.5"
  }
 },
 "nbformat": 4,
 "nbformat_minor": 4
}
